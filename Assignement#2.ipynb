{
 "cells": [
  {
   "cell_type": "markdown",
   "id": "28dfb707",
   "metadata": {},
   "source": [
    "**Assignment 1: String Concatenation and Formatting**\n",
    "\n",
    "**Instructions:**\n",
    "\n",
    "1. Create a variable `name` and assign your name to it.\n",
    "2. Create a variable `age` and assign your age to it.\n",
    "3. Create a variable `country` and assign your country of residence to it.\n",
    "4. Using the `+` operator, concatenate the variables to form a sentence in the following format: \"My name is `<name>`, I am `<age>` years old, and I live in `<country>`.\"\n",
    "5. Print the concatenated sentence."
   ]
  },
  {
   "cell_type": "code",
   "execution_count": 3,
   "id": "374d2b41",
   "metadata": {},
   "outputs": [
    {
     "name": "stdout",
     "output_type": "stream",
     "text": [
      "My name is Hiba, I am 23 years old, and I live in Pakistan.\n"
     ]
    }
   ],
   "source": [
    "name = \"Hiba\"\n",
    "age = 23\n",
    "country = \"Pakistan\"\n",
    "\n",
    "final_sentence = \"My name is \"+name+\", I am \"+str(age)+\" years old, and I live in \"+country+\".\"\n",
    "\n",
    "print(final_sentence)"
   ]
  },
  {
   "cell_type": "markdown",
   "id": "0f514e9c",
   "metadata": {},
   "source": [
    "**Assignment 2: String Formatting using `.format()`**\n",
    "\n",
    "**Instructions:**\n",
    "\n",
    "1. Create a variable `item` and assign a product name to it (e.g., \"laptop\", \"book\", \"phone\").\n",
    "2. Create a variable `price` and assign a price to the item.\n",
    "3. Create a variable `quantity` and assign a quantity value.\n",
    "4. Calculate the total cost using the formula: `total_cost = price * quantity`.\n",
    "5. Using the `.format()` method, create a formatted string: \"I bought `<quantity>` `<item>`(s) at `<price>` each, for a total of $`<total_cost>`.\"\n",
    "6. Print the formatted string."
   ]
  },
  {
   "cell_type": "code",
   "execution_count": 6,
   "id": "a5809c0d",
   "metadata": {},
   "outputs": [
    {
     "name": "stdout",
     "output_type": "stream",
     "text": [
      "I bought 20 pens at 100 each, for a total of $ 2000.\n"
     ]
    }
   ],
   "source": [
    "item = \"pens\"\n",
    "price = 100\n",
    "quantity = 20\n",
    "\n",
    "total_cost = price * quantity\n",
    "\n",
    "print(\"I bought {2} {0} at {1} each, for a total of $ {3}.\".format(item,price,quantity,total_cost))"
   ]
  },
  {
   "cell_type": "markdown",
   "id": "f9a1a807",
   "metadata": {},
   "source": [
    "**Assignment 3: String Interpolation using `f''`**\n",
    "\n",
    "**Instructions:**\n",
    "\n",
    "1. Create a variable `city` and assign the name of a city.\n",
    "2. Create a variable `temperature` and assign a temperature value in Celsius.\n",
    "3. Using `f''` string interpolation, create a string: \"The temperature in `<city>` is `<temperature>`°C.\"\n",
    "4. Print the interpolated string."
   ]
  },
  {
   "cell_type": "code",
   "execution_count": 8,
   "id": "a82004e0",
   "metadata": {},
   "outputs": [
    {
     "name": "stdout",
     "output_type": "stream",
     "text": [
      "The temperature in London is 16°C.\n"
     ]
    }
   ],
   "source": [
    "city = \"London\"\n",
    "temperature = 16\n",
    "\n",
    "print(f\"The temperature in {city} is {temperature}°C.\")"
   ]
  },
  {
   "cell_type": "markdown",
   "id": "d098a899",
   "metadata": {},
   "source": [
    "**Assignment 4: String Formatting using `%()`**\n",
    "\n",
    "**Instructions:**\n",
    "\n",
    "1. Create a variable `first_name` and assign your first name to it.\n",
    "2. Create a variable `last_name` and assign your last name to it.\n",
    "3. Create a variable `birth_year` and assign your birth year.\n",
    "4. Calculate your age using the formula: `age = current_year - birth_year`, where `current_year` is the current year.\n",
    "5. Using `%()` string formatting, create a string: \"My name is %(first_name)s %(last_name)s. I am %(age)d years old.\"\n",
    "6. Print the formatted string.\n"
   ]
  },
  {
   "cell_type": "code",
   "execution_count": 47,
   "id": "b5225494",
   "metadata": {},
   "outputs": [
    {
     "name": "stdout",
     "output_type": "stream",
     "text": [
      "My name is Hiba Rafique. I am 23 years old.\n"
     ]
    }
   ],
   "source": [
    "first_name = \"Hiba\"\n",
    "last_name = \"Rafique\"\n",
    "birth_year = 2000\n",
    "current_year = 2023\n",
    "\n",
    "age = current_year - birth_year\n",
    "\n",
    "print(\"My name is %s %s. I am %d years old.\"%(first_name,last_name,age))"
   ]
  },
  {
   "cell_type": "markdown",
   "id": "dc218914",
   "metadata": {},
   "source": [
    "**Assignment 5: Combining Formatting Methods**\n",
    "\n",
    "**Instructions:**\n",
    "\n",
    "1. Create a variable `product` and assign a product name.\n",
    "2. Create a variable `discount` and assign a discount percentage.\n",
    "3. Create a variable `original_price` and assign an original price.\n",
    "4. Calculate the discounted price using the formula: `discounted_price = original_price * (1 - discount / 100)`.\n",
    "5. Using any combination of string formatting methods (`+`, `.format()`, `f''`, `%()`), create a descriptive string with the product name, original price, discount percentage, and discounted price.\n",
    "6. Print the descriptive string."
   ]
  },
  {
   "cell_type": "code",
   "execution_count": 25,
   "id": "412d397c",
   "metadata": {},
   "outputs": [
    {
     "name": "stdout",
     "output_type": "stream",
     "text": [
      "I bought an amazing book at a discount of 10%. The original price of the book is 1000, but on discount I got it in 900\n"
     ]
    }
   ],
   "source": [
    "product = \"book\"\n",
    "discount = 10\n",
    "original_price = 1000\n",
    "\n",
    "discounted_price = int(original_price * (1 - discount / 100))\n",
    "\n",
    "# Using concatenation\n",
    "\n",
    "print(\"I bought an amazing \"+ product + \" at a discount of \" + str(discount)+ \"%\"+ \". The original price of the book is \"+\\\n",
    "      str(original_price) + \", but on discount I got it in \"+ str(discounted_price))"
   ]
  },
  {
   "cell_type": "code",
   "execution_count": 26,
   "id": "5bc7c57b",
   "metadata": {},
   "outputs": [
    {
     "name": "stdout",
     "output_type": "stream",
     "text": [
      "I bought an amazing book at a discount of  10%. The original price of the book is 1000, but on discount I got it in 900\n"
     ]
    }
   ],
   "source": [
    "#Using Format\n",
    "\n",
    "print(\"I bought an amazing {} at a discount of  {}%. The original price of the book is {}, but on discount I got it in \\\n",
    "{}\".format(product,discount,original_price,discounted_price))"
   ]
  },
  {
   "cell_type": "code",
   "execution_count": 27,
   "id": "18196220",
   "metadata": {},
   "outputs": [
    {
     "name": "stdout",
     "output_type": "stream",
     "text": [
      "I bought an amazing book at a discount of 10%. The original price of the book is 1000, but on discount I got it in 900\n"
     ]
    }
   ],
   "source": [
    "#Using f''\n",
    "\n",
    "print(f\"I bought an amazing {product} at a discount of {discount}%. The original price of the book is \\\n",
    "{original_price}, but on discount I got it in {discounted_price}\")"
   ]
  },
  {
   "cell_type": "code",
   "execution_count": 46,
   "id": "c8af5ab6",
   "metadata": {},
   "outputs": [
    {
     "name": "stdout",
     "output_type": "stream",
     "text": [
      "I bought an amazing book at a discount of  10%. The original price of the book is 1000, but on discount I got it in 900\n"
     ]
    }
   ],
   "source": [
    "#Using %()\n",
    "\n",
    "print(\"I bought an amazing %s at a discount of  %d%%. The original price of the book is %d, but on discount I got it in \\\n",
    "%d\"%(product,discount,original_price,discounted_price))"
   ]
  },
  {
   "cell_type": "code",
   "execution_count": null,
   "id": "b7729e9d",
   "metadata": {},
   "outputs": [],
   "source": []
  }
 ],
 "metadata": {
  "kernelspec": {
   "display_name": "Python 3 (ipykernel)",
   "language": "python",
   "name": "python3"
  },
  "language_info": {
   "codemirror_mode": {
    "name": "ipython",
    "version": 3
   },
   "file_extension": ".py",
   "mimetype": "text/x-python",
   "name": "python",
   "nbconvert_exporter": "python",
   "pygments_lexer": "ipython3",
   "version": "3.11.3"
  }
 },
 "nbformat": 4,
 "nbformat_minor": 5
}
