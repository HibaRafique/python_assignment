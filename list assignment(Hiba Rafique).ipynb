{
 "cells": [
  {
   "cell_type": "markdown",
   "id": "3408ef22",
   "metadata": {},
   "source": [
    "**Question 1: Basic List Operations**\n",
    "\n",
    "- Create a list named `fruits` containing the following items: \"apple\", \"banana\", \"orange\", \"grape\", \"kiwi\".\n",
    "\n",
    "- Add \"pear\" to the end of the list.\n",
    "\n",
    "- Insert \"mango\" at the second position in the list.\n",
    "\n",
    "- Remove \"orange\" from the list.\n"
   ]
  },
  {
   "cell_type": "code",
   "execution_count": 7,
   "id": "5f9f6ee6",
   "metadata": {},
   "outputs": [],
   "source": [
    "fruits = [\"apple\", \"banana\", \"orange\", \"grape\", \"kiwi\"]\n",
    "fruits.append(\"pear\")"
   ]
  },
  {
   "cell_type": "code",
   "execution_count": 8,
   "id": "fe12636c",
   "metadata": {},
   "outputs": [
    {
     "data": {
      "text/plain": [
       "['apple', 'banana', 'orange', 'grape', 'kiwi', 'pear']"
      ]
     },
     "execution_count": 8,
     "metadata": {},
     "output_type": "execute_result"
    }
   ],
   "source": [
    "fruits"
   ]
  },
  {
   "cell_type": "code",
   "execution_count": 9,
   "id": "368b424a",
   "metadata": {},
   "outputs": [],
   "source": [
    "fruits.insert(2,\"mango\")"
   ]
  },
  {
   "cell_type": "code",
   "execution_count": 10,
   "id": "44d2ce6a",
   "metadata": {},
   "outputs": [
    {
     "data": {
      "text/plain": [
       "['apple', 'banana', 'mango', 'orange', 'grape', 'kiwi', 'pear']"
      ]
     },
     "execution_count": 10,
     "metadata": {},
     "output_type": "execute_result"
    }
   ],
   "source": [
    "fruits"
   ]
  },
  {
   "cell_type": "code",
   "execution_count": 11,
   "id": "68eeee53",
   "metadata": {},
   "outputs": [],
   "source": [
    "fruits.remove(\"orange\")"
   ]
  },
  {
   "cell_type": "code",
   "execution_count": 12,
   "id": "dd7649cf",
   "metadata": {},
   "outputs": [
    {
     "data": {
      "text/plain": [
       "['apple', 'banana', 'mango', 'grape', 'kiwi', 'pear']"
      ]
     },
     "execution_count": 12,
     "metadata": {},
     "output_type": "execute_result"
    }
   ],
   "source": [
    "fruits"
   ]
  },
  {
   "cell_type": "markdown",
   "id": "275d277e",
   "metadata": {},
   "source": [
    "**Question 2: Slicing and Indexing**\n",
    "\n",
    "- Create a list named `numbers` containing the integers from 0 to 9.\n",
    "\n",
    "- Print the element at index 3.\n",
    "\n",
    "- Print a sublist containing the elements from index 2 to 6 (inclusive).\n",
    "\n",
    "- Print the last three elements using negative indexing.\n"
   ]
  },
  {
   "cell_type": "code",
   "execution_count": 14,
   "id": "05772774",
   "metadata": {},
   "outputs": [
    {
     "data": {
      "text/plain": [
       "[0, 1, 2, 3, 4, 5, 6, 7, 8, 9]"
      ]
     },
     "execution_count": 14,
     "metadata": {},
     "output_type": "execute_result"
    }
   ],
   "source": [
    "numbers = list(range(0,10))\n",
    "numbers"
   ]
  },
  {
   "cell_type": "code",
   "execution_count": 15,
   "id": "e4d4c10b",
   "metadata": {},
   "outputs": [
    {
     "name": "stdout",
     "output_type": "stream",
     "text": [
      "3\n"
     ]
    }
   ],
   "source": [
    "print(numbers[3])"
   ]
  },
  {
   "cell_type": "code",
   "execution_count": 16,
   "id": "6e7d0557",
   "metadata": {},
   "outputs": [
    {
     "name": "stdout",
     "output_type": "stream",
     "text": [
      "[2, 3, 4, 5, 6]\n"
     ]
    }
   ],
   "source": [
    "print(numbers[2:7])"
   ]
  },
  {
   "cell_type": "code",
   "execution_count": 17,
   "id": "3e055137",
   "metadata": {},
   "outputs": [
    {
     "name": "stdout",
     "output_type": "stream",
     "text": [
      "[7, 8, 9]\n"
     ]
    }
   ],
   "source": [
    "print(numbers[-3:])"
   ]
  },
  {
   "cell_type": "markdown",
   "id": "85bf08ed",
   "metadata": {},
   "source": [
    "\n",
    "**Question 3: List Comprehension**\n",
    "\n",
    "- Create a list named `squares` using a list comprehension that contains the squares of numbers from 1 to 10.\n",
    "\n",
    "- Create a new list named `even_squares` using a list comprehension that contains the squares of even numbers from the `squares` list.\n"
   ]
  },
  {
   "cell_type": "code",
   "execution_count": 18,
   "id": "93037892",
   "metadata": {},
   "outputs": [
    {
     "data": {
      "text/plain": [
       "[1, 4, 9, 16, 25, 36, 49, 64, 81, 100]"
      ]
     },
     "execution_count": 18,
     "metadata": {},
     "output_type": "execute_result"
    }
   ],
   "source": [
    "squares = [i**2 for i in range(1,11)]\n",
    "squares"
   ]
  },
  {
   "cell_type": "code",
   "execution_count": 21,
   "id": "87907ca7",
   "metadata": {},
   "outputs": [],
   "source": [
    "new_list = [i for i in squares if i%2==0]"
   ]
  },
  {
   "cell_type": "code",
   "execution_count": 22,
   "id": "f8a0eb60",
   "metadata": {},
   "outputs": [
    {
     "data": {
      "text/plain": [
       "[4, 16, 36, 64, 100]"
      ]
     },
     "execution_count": 22,
     "metadata": {},
     "output_type": "execute_result"
    }
   ],
   "source": [
    "new_list\n"
   ]
  },
  {
   "cell_type": "markdown",
   "id": "99d4c803",
   "metadata": {},
   "source": [
    "**Question 4: List Manipulation**\n",
    "\n",
    "- Create a list named `colors` containing the following items: \"red\", \"green\", \"blue\", \"yellow\", \"purple\".\n",
    "\n",
    "- Swap the first and last elements of the list.\n",
    "\n",
    "- Reverse the order of the list.\n",
    "\n",
    "- Remove the second and third elements from the list.\n"
   ]
  },
  {
   "cell_type": "code",
   "execution_count": 68,
   "id": "1f9feaf1",
   "metadata": {},
   "outputs": [
    {
     "data": {
      "text/plain": [
       "['red', 'green', 'blue', 'yellow', 'purple']"
      ]
     },
     "execution_count": 68,
     "metadata": {},
     "output_type": "execute_result"
    }
   ],
   "source": [
    "colors = [\"red\", \"green\", \"blue\", \"yellow\", \"purple\"]\n",
    "colors"
   ]
  },
  {
   "cell_type": "code",
   "execution_count": 69,
   "id": "aa6e116b",
   "metadata": {},
   "outputs": [
    {
     "data": {
      "text/plain": [
       "['purple', 'green', 'blue', 'yellow', 'red']"
      ]
     },
     "execution_count": 69,
     "metadata": {},
     "output_type": "execute_result"
    }
   ],
   "source": [
    "c = colors[0]\n",
    "colors[0] = colors[-1]\n",
    "colors[-1] = c\n",
    "colors"
   ]
  },
  {
   "cell_type": "code",
   "execution_count": 70,
   "id": "586b3f4e",
   "metadata": {},
   "outputs": [
    {
     "data": {
      "text/plain": [
       "['red', 'yellow', 'blue', 'green', 'purple']"
      ]
     },
     "execution_count": 70,
     "metadata": {},
     "output_type": "execute_result"
    }
   ],
   "source": [
    "colors = colors[-1::-1]\n",
    "colors"
   ]
  },
  {
   "cell_type": "code",
   "execution_count": 71,
   "id": "f8844f1f",
   "metadata": {},
   "outputs": [],
   "source": [
    "colors.remove(colors[2])\n",
    "colors.remove(colors[2])"
   ]
  },
  {
   "cell_type": "code",
   "execution_count": 72,
   "id": "6b8c0e28",
   "metadata": {},
   "outputs": [
    {
     "data": {
      "text/plain": [
       "['red', 'yellow', 'purple']"
      ]
     },
     "execution_count": 72,
     "metadata": {},
     "output_type": "execute_result"
    }
   ],
   "source": [
    "colors"
   ]
  },
  {
   "cell_type": "markdown",
   "id": "db6d42b3",
   "metadata": {},
   "source": [
    "**Question 5: Advanced Slicing**\n",
    "\n",
    "- Create a list named `letters` containing the letters from 'a' to 'j'.\n",
    "\n",
    "- Using slicing, create a new list `first_half` containing the first half of the `letters` list.\n",
    "\n",
    "- Using slicing, create a new list `last_three` containing the last three elements of the `letters` list.\n"
   ]
  },
  {
   "cell_type": "code",
   "execution_count": 75,
   "id": "f241c27b",
   "metadata": {},
   "outputs": [],
   "source": [
    "letters = ['a', 'b', 'c', 'd','e', 'f', 'g', 'h', 'i', 'j']\n",
    "first_half = letters[0:(len(letters)//2)+1]"
   ]
  },
  {
   "cell_type": "code",
   "execution_count": 76,
   "id": "00b563c2",
   "metadata": {},
   "outputs": [
    {
     "data": {
      "text/plain": [
       "['a', 'b', 'c', 'd', 'e', 'f']"
      ]
     },
     "execution_count": 76,
     "metadata": {},
     "output_type": "execute_result"
    }
   ],
   "source": [
    "first_half"
   ]
  },
  {
   "cell_type": "code",
   "execution_count": 78,
   "id": "b3867f76",
   "metadata": {},
   "outputs": [],
   "source": [
    "last_three=letters[-3:]"
   ]
  },
  {
   "cell_type": "code",
   "execution_count": 79,
   "id": "b9d58299",
   "metadata": {},
   "outputs": [
    {
     "data": {
      "text/plain": [
       "['h', 'i', 'j']"
      ]
     },
     "execution_count": 79,
     "metadata": {},
     "output_type": "execute_result"
    }
   ],
   "source": [
    "last_three"
   ]
  },
  {
   "cell_type": "markdown",
   "id": "4505d71b",
   "metadata": {},
   "source": [
    "**Question 6: Nested Lists**\n",
    "\n",
    " - Create a nested list named `matrix` with the following rows:\n",
    "   - [1, 2, 3]\n",
    "   - [4, 5, 6]\n",
    "   - [7, 8, 9]\n",
    "\n",
    " - Print the element in the second row and third column.\n",
    "\n",
    " - Use nested indexing to change the value at the second row and first column to 0.\n"
   ]
  },
  {
   "cell_type": "code",
   "execution_count": 80,
   "id": "9ae4098d",
   "metadata": {},
   "outputs": [],
   "source": [
    "matrix = [[1, 2, 3], [4, 5, 6], [7, 8, 9]]"
   ]
  },
  {
   "cell_type": "code",
   "execution_count": 81,
   "id": "69f0cd29",
   "metadata": {},
   "outputs": [
    {
     "data": {
      "text/plain": [
       "[[1, 2, 3], [4, 5, 6], [7, 8, 9]]"
      ]
     },
     "execution_count": 81,
     "metadata": {},
     "output_type": "execute_result"
    }
   ],
   "source": [
    "matrix"
   ]
  },
  {
   "cell_type": "code",
   "execution_count": 82,
   "id": "87df2503",
   "metadata": {},
   "outputs": [
    {
     "name": "stdout",
     "output_type": "stream",
     "text": [
      "6\n"
     ]
    }
   ],
   "source": [
    "print(matrix[1][2])"
   ]
  },
  {
   "cell_type": "code",
   "execution_count": 83,
   "id": "45a80526",
   "metadata": {},
   "outputs": [],
   "source": [
    "matrix[1][0]=0"
   ]
  },
  {
   "cell_type": "code",
   "execution_count": 84,
   "id": "7e67a776",
   "metadata": {},
   "outputs": [
    {
     "data": {
      "text/plain": [
       "[[1, 2, 3], [0, 5, 6], [7, 8, 9]]"
      ]
     },
     "execution_count": 84,
     "metadata": {},
     "output_type": "execute_result"
    }
   ],
   "source": [
    "matrix"
   ]
  },
  {
   "cell_type": "code",
   "execution_count": null,
   "id": "a81af53d",
   "metadata": {},
   "outputs": [],
   "source": []
  }
 ],
 "metadata": {
  "kernelspec": {
   "display_name": "Python 3 (ipykernel)",
   "language": "python",
   "name": "python3"
  },
  "language_info": {
   "codemirror_mode": {
    "name": "ipython",
    "version": 3
   },
   "file_extension": ".py",
   "mimetype": "text/x-python",
   "name": "python",
   "nbconvert_exporter": "python",
   "pygments_lexer": "ipython3",
   "version": "3.11.3"
  }
 },
 "nbformat": 4,
 "nbformat_minor": 5
}
